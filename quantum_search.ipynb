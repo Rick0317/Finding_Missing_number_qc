{
 "cells": [
  {
   "cell_type": "code",
   "execution_count": 22,
   "id": "e226c3ea-c241-414e-86c6-b0aae24c34aa",
   "metadata": {},
   "outputs": [
    {
     "name": "stderr",
     "output_type": "stream",
     "text": [
      "ibmqfactory.load_account:WARNING:2022-10-17 01:11:38,367: Credentials are already in use. The existing account in the session will be replaced.\n"
     ]
    }
   ],
   "source": [
    "import numpy as np\n",
    "\n",
    "# Importing standard Qiskit libraries\n",
    "from qiskit import QuantumCircuit, transpile, Aer, IBMQ, assemble\n",
    "from qiskit.tools.jupyter import *\n",
    "from qiskit.visualization import *\n",
    "from ibm_quantum_widgets import *\n",
    "from qiskit.providers.aer import QasmSimulator\n",
    "from qiskit.quantum_info.operators import Operator\n",
    "from qiskit.visualization import plot_histogram\n",
    "\n",
    "# Loading your IBM Quantum account(s)\n",
    "provider = IBMQ.load_account()"
   ]
  },
  {
   "cell_type": "code",
   "execution_count": 23,
   "id": "e4454f5f-290b-4714-abe3-788f41da8529",
   "metadata": {},
   "outputs": [],
   "source": [
    "def diffuser(nqubits):\n",
    "    qc = QuantumCircuit(nqubits)\n",
    "    # Apply transformation |s> -> |00..0> (H-gates)\n",
    "    for qubit in range(nqubits):\n",
    "        qc.h(qubit)\n",
    "    # Apply transformation |00..0> -> |11..1> (X-gates)\n",
    "    for qubit in range(nqubits):\n",
    "        qc.x(qubit)\n",
    "    # Do multi-controlled-Z gate\n",
    "    qc.h(nqubits-1)\n",
    "    qc.mct(list(range(nqubits-1)), nqubits-1)  # multi-controlled-toffoli\n",
    "    qc.h(nqubits-1)\n",
    "    # Apply transformation |11..1> -> |00..0>\n",
    "    for qubit in range(nqubits):\n",
    "        qc.x(qubit)\n",
    "    # Apply transformation |00..0> -> |s>\n",
    "    for qubit in range(nqubits):\n",
    "        qc.h(qubit)\n",
    "    # We will return the diffuser as a gate\n",
    "    U_s = qc.to_gate()\n",
    "    U_s.name = \"U$_s$\"\n",
    "    return U_s"
   ]
  },
  {
   "cell_type": "code",
   "execution_count": 32,
   "id": "cc650543-6efa-4bc4-9e1c-c3a6f267ff42",
   "metadata": {},
   "outputs": [],
   "source": [
    "def function(mis_list: list, num):\n",
    "    if num in mis_list:\n",
    "        return 0\n",
    "    else:\n",
    "        return 1\n",
    "    \n",
    "def missing_number(mis_list: list):\n",
    "    \"\"\"\n",
    "    \"\"\"\n",
    "    n = int(np.log2(len(mis_list)+1))\n",
    "    qc = QuantumCircuit(n)\n",
    "    for i in range(n):\n",
    "        qc.h(i)\n",
    "    qc.barrier()\n",
    "    matrix = []\n",
    "    for i in range(2**n):\n",
    "        row = [0 for i in range(2**n)]\n",
    "        f_i = function(mis_list, i)\n",
    "        row[i] = (-1)**f_i\n",
    "        matrix.append(row)\n",
    "    \n",
    "    oracle = Operator(matrix)\n",
    "    qc.unitary(oracle, [qubit for qubit in range(n)], label='oracle')\n",
    "    \n",
    "    qc.barrier()\n",
    "    qc.append(diffuser(n), [qubit for qubit in range(n)])\n",
    "    qc.measure_all()\n",
    "    qc.draw()\n",
    "    print(qc)\n",
    "    \n",
    "    aer_sim = Aer.get_backend('aer_simulator')\n",
    "    transpiled_qc = transpile(qc, aer_sim)\n",
    "    qobj = assemble(transpiled_qc)\n",
    "    results = aer_sim.run(qobj).result()\n",
    "    counts = results.get_counts()\n",
    "    plot_histogram(counts)"
   ]
  },
  {
   "cell_type": "code",
   "execution_count": 33,
   "id": "f04079de-b213-47d3-9e33-e1d138f6a47b",
   "metadata": {},
   "outputs": [
    {
     "name": "stdout",
     "output_type": "stream",
     "text": [
      "        ┌───┐ ░ ┌─────────┐ ░ ┌────────┐ ░ ┌─┐   \n",
      "   q_0: ┤ H ├─░─┤0        ├─░─┤0       ├─░─┤M├───\n",
      "        ├───┤ ░ │  oracle │ ░ │  U$_s$ │ ░ └╥┘┌─┐\n",
      "   q_1: ┤ H ├─░─┤1        ├─░─┤1       ├─░──╫─┤M├\n",
      "        └───┘ ░ └─────────┘ ░ └────────┘ ░  ║ └╥┘\n",
      "meas: 2/════════════════════════════════════╩══╩═\n",
      "                                            0  1 \n",
      "Traceback \u001b[1;36m(most recent call last)\u001b[0m:\n",
      "  Input \u001b[0;32mIn [33]\u001b[0m in \u001b[0;35m<cell line: 1>\u001b[0m\n",
      "    missing_number([3,1,0])\n",
      "\u001b[1;36m  Input \u001b[1;32mIn [32]\u001b[1;36m in \u001b[1;35mmissing_number\u001b[1;36m\u001b[0m\n",
      "\u001b[1;33m    qobj = assemble(transpiled_qc)\u001b[0m\n",
      "\u001b[1;31mNameError\u001b[0m\u001b[1;31m:\u001b[0m name 'assemble' is not defined\n",
      "\n",
      "Use %tb to get the full traceback.\n"
     ]
    },
    {
     "data": {
      "text/html": [
       "\n",
       "<style>\n",
       ".button {\n",
       "  border: none;\n",
       "  color: white;\n",
       "  padding: 4px 8px;\n",
       "  text-align: center;\n",
       "  text-decoration: none;\n",
       "  display: inline-block;\n",
       "  font-size: 12px;\n",
       "  margin: 4px 2px;\n",
       "  transition-duration: 0.2s;\n",
       "  cursor: pointer;\n",
       "}\n",
       ".iqx-button {\n",
       "  background-color: #0f62fe; \n",
       "  color: white; \n",
       "}\n",
       ".iqx-button:hover {\n",
       "  background-color: #0043ce;\n",
       "  color: white;\n",
       "}\n",
       "</style>\n",
       "<a href=\"https://stackoverflow.com/search?q=NameError: name 'assemble' is not defined\" target='_blank'><button class='button iqx-button'>Search for solution online</button></a>\n"
      ],
      "text/plain": [
       "<IPython.core.display.HTML object>"
      ]
     },
     "metadata": {},
     "output_type": "display_data"
    }
   ],
   "source": [
    "missing_number([3,1,0])"
   ]
  },
  {
   "cell_type": "code",
   "execution_count": null,
   "id": "6d01ead9-5b35-4ca3-954a-ac16b474fc5c",
   "metadata": {},
   "outputs": [],
   "source": []
  }
 ],
 "metadata": {
  "kernelspec": {
   "display_name": "Python 3 (ipykernel)",
   "language": "python",
   "name": "python3"
  },
  "language_info": {
   "codemirror_mode": {
    "name": "ipython",
    "version": 3
   },
   "file_extension": ".py",
   "mimetype": "text/x-python",
   "name": "python",
   "nbconvert_exporter": "python",
   "pygments_lexer": "ipython3",
   "version": "3.8.13"
  },
  "widgets": {
   "application/vnd.jupyter.widget-state+json": {
    "state": {
     "054cced5205e4064862630ada5042487": {
      "model_module": "@jupyter-widgets/controls",
      "model_module_version": "1.5.0",
      "model_name": "HTMLModel",
      "state": {
       "layout": "IPY_MODEL_869c7b8e2721448697da49164110673f",
       "style": "IPY_MODEL_095cb0ca0d0f4eeda65c51aabf13c267",
       "value": "<h5>Message</h5>"
      }
     },
     "095cb0ca0d0f4eeda65c51aabf13c267": {
      "model_module": "@jupyter-widgets/controls",
      "model_module_version": "1.5.0",
      "model_name": "DescriptionStyleModel",
      "state": {
       "description_width": ""
      }
     },
     "0bd90219de734b708abcfca52d481d8f": {
      "model_module": "@jupyter-widgets/controls",
      "model_module_version": "1.5.0",
      "model_name": "DescriptionStyleModel",
      "state": {
       "description_width": ""
      }
     },
     "1d95cbc32ea0496092a79e1aa500afb0": {
      "model_module": "@jupyter-widgets/controls",
      "model_module_version": "1.5.0",
      "model_name": "ButtonModel",
      "state": {
       "button_style": "primary",
       "description": "Clear",
       "layout": "IPY_MODEL_68457ce1f2954af98a5df5e72884e17a",
       "style": "IPY_MODEL_7b07d5c7e16c4472ade0f0c55e6e8d4e"
      }
     },
     "289c470f0c324ea49087cbba6e1e3e68": {
      "model_module": "@jupyter-widgets/controls",
      "model_module_version": "1.5.0",
      "model_name": "HTMLModel",
      "state": {
       "layout": "IPY_MODEL_9a33f11c747c400ab4616a837da86d86",
       "style": "IPY_MODEL_2e5bab3302ce46e2b80737cefb65cd31",
       "value": "<p style='font-family: IBM Plex Sans, Arial, Helvetica, sans-serif; font-size: 20px; font-weight: medium;'>Circuit Properties</p>"
      }
     },
     "2e5bab3302ce46e2b80737cefb65cd31": {
      "model_module": "@jupyter-widgets/controls",
      "model_module_version": "1.5.0",
      "model_name": "DescriptionStyleModel",
      "state": {
       "description_width": ""
      }
     },
     "30cd4c377180467fa435d38d39256501": {
      "model_module": "@jupyter-widgets/controls",
      "model_module_version": "1.5.0",
      "model_name": "HTMLModel",
      "state": {
       "layout": "IPY_MODEL_b341c82a7046495bab725a241979ca0b",
       "style": "IPY_MODEL_48c3f9a649d84840a00542513935a8c6",
       "value": "<h5>Backend</h5>"
      }
     },
     "3f1b672fe108440a87b77dbff111a997": {
      "model_module": "@jupyter-widgets/base",
      "model_module_version": "1.2.0",
      "model_name": "LayoutModel",
      "state": {
       "margin": "0px 0px 0px 37px",
       "width": "600px"
      }
     },
     "4663ac2d2def45cdb9319c0abb71997a": {
      "model_module": "@jupyter-widgets/base",
      "model_module_version": "1.2.0",
      "model_name": "LayoutModel",
      "state": {
       "width": "190px"
      }
     },
     "48c3f9a649d84840a00542513935a8c6": {
      "model_module": "@jupyter-widgets/controls",
      "model_module_version": "1.5.0",
      "model_name": "DescriptionStyleModel",
      "state": {
       "description_width": ""
      }
     },
     "4b205d0e3e98476cbfa553d0d0ff6f2b": {
      "model_module": "@jupyter-widgets/controls",
      "model_module_version": "1.5.0",
      "model_name": "HTMLModel",
      "state": {
       "layout": "IPY_MODEL_4663ac2d2def45cdb9319c0abb71997a",
       "style": "IPY_MODEL_0bd90219de734b708abcfca52d481d8f",
       "value": "<h5>Job ID</h5>"
      }
     },
     "569aff7e7f98432380995e23d919cb28": {
      "model_module": "@jupyter-widgets/base",
      "model_module_version": "1.2.0",
      "model_name": "LayoutModel",
      "state": {
       "width": "70px"
      }
     },
     "5813000d09f74b8f85332cfba669d09a": {
      "model_module": "@jupyter-widgets/controls",
      "model_module_version": "1.5.0",
      "model_name": "HTMLModel",
      "state": {
       "layout": "IPY_MODEL_80221110e5bf419581105aaad63800fd",
       "style": "IPY_MODEL_60f3220c7f7c4047b7a3867503eb8908",
       "value": "<h5>Status</h5>"
      }
     },
     "6079d44c5023446e96d570de246179de": {
      "model_module": "@jupyter-widgets/controls",
      "model_module_version": "1.5.0",
      "model_name": "GridBoxModel",
      "state": {
       "children": [
        "IPY_MODEL_1d95cbc32ea0496092a79e1aa500afb0"
       ],
       "layout": "IPY_MODEL_849fb6bd77b24c1db7befcf48c7e6536"
      }
     },
     "60f3220c7f7c4047b7a3867503eb8908": {
      "model_module": "@jupyter-widgets/controls",
      "model_module_version": "1.5.0",
      "model_name": "DescriptionStyleModel",
      "state": {
       "description_width": ""
      }
     },
     "68457ce1f2954af98a5df5e72884e17a": {
      "model_module": "@jupyter-widgets/base",
      "model_module_version": "1.2.0",
      "model_name": "LayoutModel",
      "state": {
       "grid_area": "right",
       "padding": "0px 0px 0px 0px",
       "width": "70px"
      }
     },
     "6926485fe3ae43368f5367560e1ae041": {
      "model_module": "@jupyter-widgets/controls",
      "model_module_version": "1.5.0",
      "model_name": "DescriptionStyleModel",
      "state": {
       "description_width": ""
      }
     },
     "74c9f7a613434ba097b2f1b4b3057690": {
      "model_module": "@jupyter-widgets/controls",
      "model_module_version": "1.5.0",
      "model_name": "HTMLModel",
      "state": {
       "layout": "IPY_MODEL_569aff7e7f98432380995e23d919cb28",
       "style": "IPY_MODEL_6926485fe3ae43368f5367560e1ae041",
       "value": "<h5>Queue</h5>"
      }
     },
     "7b07d5c7e16c4472ade0f0c55e6e8d4e": {
      "model_module": "@jupyter-widgets/controls",
      "model_module_version": "1.5.0",
      "model_name": "ButtonStyleModel",
      "state": {}
     },
     "80221110e5bf419581105aaad63800fd": {
      "model_module": "@jupyter-widgets/base",
      "model_module_version": "1.2.0",
      "model_name": "LayoutModel",
      "state": {
       "width": "95px"
      }
     },
     "849fb6bd77b24c1db7befcf48c7e6536": {
      "model_module": "@jupyter-widgets/base",
      "model_module_version": "1.2.0",
      "model_name": "LayoutModel",
      "state": {
       "grid_template_areas": "\n                                       \". . . . right \"\n                                        ",
       "grid_template_columns": "20% 20% 20% 20% 20%",
       "width": "100%"
      }
     },
     "869c7b8e2721448697da49164110673f": {
      "model_module": "@jupyter-widgets/base",
      "model_module_version": "1.2.0",
      "model_name": "LayoutModel",
      "state": {}
     },
     "8cdd756ba10a4d3ca580ae9fe55189f1": {
      "model_module": "@jupyter-widgets/controls",
      "model_module_version": "1.5.0",
      "model_name": "HBoxModel",
      "state": {
       "children": [
        "IPY_MODEL_4b205d0e3e98476cbfa553d0d0ff6f2b",
        "IPY_MODEL_30cd4c377180467fa435d38d39256501",
        "IPY_MODEL_5813000d09f74b8f85332cfba669d09a",
        "IPY_MODEL_74c9f7a613434ba097b2f1b4b3057690",
        "IPY_MODEL_054cced5205e4064862630ada5042487"
       ],
       "layout": "IPY_MODEL_3f1b672fe108440a87b77dbff111a997"
      }
     },
     "9a33f11c747c400ab4616a837da86d86": {
      "model_module": "@jupyter-widgets/base",
      "model_module_version": "1.2.0",
      "model_name": "LayoutModel",
      "state": {
       "margin": "0px 0px 10px 0px"
      }
     },
     "b341c82a7046495bab725a241979ca0b": {
      "model_module": "@jupyter-widgets/base",
      "model_module_version": "1.2.0",
      "model_name": "LayoutModel",
      "state": {
       "width": "145px"
      }
     }
    },
    "version_major": 2,
    "version_minor": 0
   }
  }
 },
 "nbformat": 4,
 "nbformat_minor": 5
}
